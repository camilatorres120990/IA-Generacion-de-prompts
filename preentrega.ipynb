{
 "cells": [
  {
   "cell_type": "raw",
   "id": "c91c3b21-b6ae-4f93-93db-aa736c915bf6",
   "metadata": {},
   "source": [
    "import requests\n",
    "\n",
    "api-key= No pude resolverlo ésta vez, será para la próxima"
   ]
  },
  {
   "cell_type": "code",
   "execution_count": null,
   "id": "32ffa8f6-af19-4de0-8405-9550a15fbdbf",
   "metadata": {},
   "outputs": [],
   "source": []
  }
 ],
 "metadata": {
  "kernelspec": {
   "display_name": "Python 3 (ipykernel)",
   "language": "python",
   "name": "python3"
  },
  "language_info": {
   "codemirror_mode": {
    "name": "ipython",
    "version": 3
   },
   "file_extension": ".py",
   "mimetype": "text/x-python",
   "name": "python",
   "nbconvert_exporter": "python",
   "pygments_lexer": "ipython3",
   "version": "3.12.4"
  }
 },
 "nbformat": 4,
 "nbformat_minor": 5
}
